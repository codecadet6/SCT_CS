{
  "nbformat": 4,
  "nbformat_minor": 0,
  "metadata": {
    "colab": {
      "provenance": [],
      "authorship_tag": "ABX9TyPHP1WLiO7QAQlVR1VXk0SG",
      "include_colab_link": true
    },
    "kernelspec": {
      "name": "python3",
      "display_name": "Python 3"
    },
    "language_info": {
      "name": "python"
    }
  },
  "cells": [
    {
      "cell_type": "markdown",
      "metadata": {
        "id": "view-in-github",
        "colab_type": "text"
      },
      "source": [
        "<a href=\"https://colab.research.google.com/github/codecadet6/SCT_CS/blob/main/SCT_CS_1.ipynb\" target=\"_parent\"><img src=\"https://colab.research.google.com/assets/colab-badge.svg\" alt=\"Open In Colab\"/></a>"
      ]
    },
    {
      "cell_type": "code",
      "execution_count": 1,
      "metadata": {
        "colab": {
          "base_uri": "https://localhost:8080/"
        },
        "id": "ngtyaG7cEh0V",
        "outputId": "ade1ef72-ce20-4952-c2ec-0b3d76c6751a"
      },
      "outputs": [
        {
          "output_type": "stream",
          "name": "stdout",
          "text": [
            "=== Caesar Cipher Program ===\n",
            "Do you want to Encrypt or Decrypt? (E/D): D\n",
            "Enter your message: KHOOR ZROUG\n",
            "Enter shift value (1-25): 3\n",
            "\n",
            "Decrypted message: HELLO WOLRD\n"
          ]
        }
      ],
      "source": [
        "# Caesar Cipher Program - Encrypt or Decrypt\n",
        "\n",
        "def caesar_cipher(text, shift, mode):\n",
        "    result = \"\"\n",
        "    for char in text:\n",
        "        if char.isalpha():  # Only shift letters\n",
        "            shift_amount = shift if mode == \"encrypt\" else -shift\n",
        "            start = ord('A') if char.isupper() else ord('a')\n",
        "            result += chr((ord(char) - start + shift_amount) % 26 + start)\n",
        "        else:\n",
        "            result += char  # Keep spaces, numbers, symbols as they are\n",
        "    return result\n",
        "\n",
        "print(\"=== Caesar Cipher Program ===\")\n",
        "choice = input(\"Do you want to Encrypt or Decrypt? (E/D): \").strip().lower()\n",
        "message = input(\"Enter your message: \")\n",
        "shift = int(input(\"Enter shift value (1-25): \"))\n",
        "\n",
        "if choice == \"e\":\n",
        "    encrypted = caesar_cipher(message, shift, \"encrypt\")\n",
        "    print(\"\\nEncrypted message:\", encrypted)\n",
        "elif choice == \"d\":\n",
        "    decrypted = caesar_cipher(message, shift, \"decrypt\")\n",
        "    print(\"\\nDecrypted message:\", decrypted)\n",
        "else:\n",
        "    print(\"Invalid choice! Please enter E or D.\")"
      ]
    }
  ]
}